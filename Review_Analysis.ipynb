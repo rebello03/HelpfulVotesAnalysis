{
  "nbformat": 4,
  "nbformat_minor": 0,
  "metadata": {
    "colab": {
      "provenance": []
    },
    "kernelspec": {
      "name": "python3",
      "display_name": "Python 3"
    },
    "language_info": {
      "name": "python"
    }
  },
  "cells": [
    {
      "cell_type": "code",
      "execution_count": null,
      "metadata": {
        "id": "R_vtmyH1MppC",
        "colab": {
          "base_uri": "https://localhost:8080/"
        },
        "outputId": "fcadd02e-7343-489f-ac94-e7aae534555d"
      },
      "outputs": [
        {
          "output_type": "stream",
          "name": "stdout",
          "text": [
            "Mounted at /content/drive\n"
          ]
        }
      ],
      "source": [
        "# Mount Google Drive\n",
        "from google.colab import drive\n",
        "drive.mount('/content/drive')\n",
        "\n",
        "# File path to the dataset in Google Drive\n",
        "file_path = '/content/drive/My Drive/Cloud/All_Beauty.csv'"
      ]
    },
    {
      "cell_type": "code",
      "source": [
        "!pip install pyspark\n",
        "\n",
        "# Import necessary libraries\n",
        "from pyspark.sql import SparkSession\n",
        "from pyspark.sql.functions import col\n",
        "\n",
        "# Initialize Spark session\n",
        "spark = SparkSession.builder.appName(\"BeautyDataPipeline\").getOrCreate()\n",
        "\n",
        "# Load the CSV file into a Spark DataFrame\n",
        "df = spark.read.csv(file_path, header=True, inferSchema=True)\n",
        "\n",
        "# Display the first few rows of the dataset\n",
        "print(\"Dataset loaded successfully!\")\n",
        "df.show(5)\n",
        "\n",
        "# Display schema and summary statistics\n",
        "print(\"\\nDataset schema:\")\n",
        "df.printSchema()\n",
        "\n",
        "print(\"\\nNumber of rows and columns:\")\n",
        "print(f\"Rows: {df.count()}, Columns: {len(df.columns)}\")"
      ],
      "metadata": {
        "colab": {
          "base_uri": "https://localhost:8080/"
        },
        "id": "JzdR9NxAQSaz",
        "outputId": "02ddb545-e5f0-41ff-9df2-68ccb14d15e1"
      },
      "execution_count": null,
      "outputs": [
        {
          "output_type": "stream",
          "name": "stdout",
          "text": [
            "Requirement already satisfied: pyspark in /usr/local/lib/python3.10/dist-packages (3.5.3)\n",
            "Requirement already satisfied: py4j==0.10.9.7 in /usr/local/lib/python3.10/dist-packages (from pyspark) (0.10.9.7)\n",
            "Dataset loaded successfully!\n",
            "+------+--------------------+--------------------+------+----------+-----------+--------------------+--------------------+------------+-----------------+\n",
            "|rating|               title|                text|images|      asin|parent_asin|             user_id|           timestamp|helpful_vote|verified_purchase|\n",
            "+------+--------------------+--------------------+------+----------+-----------+--------------------+--------------------+------------+-----------------+\n",
            "|     5|Such a lovely sce...|This spray is rea...|    []|B00YQ6X8EO| B00YQ6X8EO|AGKHLEW2SOWHNMFQI...|2020-05-05 14:08:...|           0|             True|\n",
            "|     4|Works great but s...|This product does...|    []|B081TJ8YS3| B081TJ8YS3|AGKHLEW2SOWHNMFQI...|2020-05-04 18:10:...|           1|             True|\n",
            "|     5|                Yes!|Smells good, feel...|    []|B07PNNCSP9| B097R46CSY|AE74DYR3QUGVPZJ3P...|2020-05-16 21:41:...|           2|             True|\n",
            "|     1|   Synthetic feeling|      Felt synthetic|    []|B09JS339BZ| B09JS339BZ|AFQLNQNQYFWQZPJQZ...|2022-01-28 18:13:...|           0|             True|\n",
            "|     5|                  A+|             Love it|    []|B08BZ63GMJ| B08BZ63GMJ|AFQLNQNQYFWQZPJQZ...|2020-12-30 10:02:...|           0|             True|\n",
            "+------+--------------------+--------------------+------+----------+-----------+--------------------+--------------------+------------+-----------------+\n",
            "only showing top 5 rows\n",
            "\n",
            "\n",
            "Dataset schema:\n",
            "root\n",
            " |-- rating: integer (nullable = true)\n",
            " |-- title: string (nullable = true)\n",
            " |-- text: string (nullable = true)\n",
            " |-- images: string (nullable = true)\n",
            " |-- asin: string (nullable = true)\n",
            " |-- parent_asin: string (nullable = true)\n",
            " |-- user_id: string (nullable = true)\n",
            " |-- timestamp: string (nullable = true)\n",
            " |-- helpful_vote: string (nullable = true)\n",
            " |-- verified_purchase: string (nullable = true)\n",
            "\n",
            "\n",
            "Number of rows and columns:\n",
            "Rows: 701528, Columns: 10\n"
          ]
        }
      ]
    },
    {
      "cell_type": "code",
      "source": [
        "# Check for null values in each column\n",
        "print(\"\\nNull values per column:\")\n",
        "df.select([col(c).isNull().alias(c) for c in df.columns]).show()\n",
        "\n",
        "# Remove duplicate rows\n",
        "cleaned_df = df.dropDuplicates()\n",
        "\n",
        "# Display the first few rows of the cleaned dataset\n",
        "print(\"\\nCleaned Dataset:\")\n",
        "cleaned_df.show(5)\n",
        "\n",
        "# Save the cleaned dataset to Google Drive in CSV format\n",
        "output_path = '/content/drive/My Drive/Cloud/Cleaned_All_Beauty.csv'\n",
        "cleaned_df.write.csv(output_path, header=True)\n",
        "\n",
        "print(f\"\\nCleaned dataset saved to {output_path}\")"
      ],
      "metadata": {
        "colab": {
          "base_uri": "https://localhost:8080/"
        },
        "id": "QFCh7r9BRi0T",
        "outputId": "47191297-aeb0-4ea9-e41f-4c6e43eb026c"
      },
      "execution_count": null,
      "outputs": [
        {
          "output_type": "stream",
          "name": "stdout",
          "text": [
            "\n",
            "Null values per column:\n",
            "+------+-----+-----+------+-----+-----------+-------+---------+------------+-----------------+\n",
            "|rating|title| text|images| asin|parent_asin|user_id|timestamp|helpful_vote|verified_purchase|\n",
            "+------+-----+-----+------+-----+-----------+-------+---------+------------+-----------------+\n",
            "| false|false|false| false|false|      false|  false|    false|       false|            false|\n",
            "| false|false|false| false|false|      false|  false|    false|       false|            false|\n",
            "| false|false|false| false|false|      false|  false|    false|       false|            false|\n",
            "| false|false|false| false|false|      false|  false|    false|       false|            false|\n",
            "| false|false|false| false|false|      false|  false|    false|       false|            false|\n",
            "| false|false|false| false|false|      false|  false|    false|       false|            false|\n",
            "| false|false|false| false|false|      false|  false|    false|       false|            false|\n",
            "| false|false|false| false|false|      false|  false|    false|       false|            false|\n",
            "| false|false|false| false|false|      false|  false|    false|       false|            false|\n",
            "| false|false|false| false|false|      false|  false|    false|       false|            false|\n",
            "| false|false|false| false|false|      false|  false|    false|       false|            false|\n",
            "| false|false|false| false|false|      false|  false|    false|       false|            false|\n",
            "| false|false|false| false|false|      false|  false|    false|       false|            false|\n",
            "| false|false|false| false|false|      false|  false|    false|       false|            false|\n",
            "| false|false|false| false|false|      false|  false|    false|       false|            false|\n",
            "| false|false|false| false|false|      false|  false|    false|       false|            false|\n",
            "| false|false|false| false|false|      false|  false|    false|       false|            false|\n",
            "| false|false|false| false|false|      false|  false|    false|       false|            false|\n",
            "| false|false|false| false|false|      false|  false|    false|       false|            false|\n",
            "| false|false|false| false|false|      false|  false|    false|       false|            false|\n",
            "+------+-----+-----+------+-----+-----------+-------+---------+------------+-----------------+\n",
            "only showing top 20 rows\n",
            "\n",
            "\n",
            "Cleaned Dataset:\n",
            "+------+--------------------+--------------------+--------------------+----------+-----------+--------------------+--------------------+------------+-----------------+\n",
            "|rating|               title|                text|              images|      asin|parent_asin|             user_id|           timestamp|helpful_vote|verified_purchase|\n",
            "+------+--------------------+--------------------+--------------------+----------+-----------+--------------------+--------------------+------------+-----------------+\n",
            "|     4|      Non-Irritating|I am in my early ...|                  []|B08KYLTK5H| B08KYLTK5H|AHV6QCNBJNSGLATP5...|2021-02-25 22:43:...|           0|            False|\n",
            "|     3|Too big & too thi...|I do not care for...|[{'small_image_ur...|B08C72C56Z| B08C72C56Z|AFXF3EGQTQDXMRLDW...|2020-08-29 01:44:...|           0|            False|\n",
            "|     5|Effective and tas...|I wish these were...|                  []|B00KOCJEJC| B00KOCJEJC|AGVQJFWTGNXNOKM6B...|2016-10-02 21:27:...|           0|             True|\n",
            "|     5|                  Ok|Good thought mask...|                  []|B08174L3RB| B08174L3RB|AH5L47RDZMEXDN56M...|2020-08-24 19:56:...|           0|             True|\n",
            "|     5|   wonderful product|I have used this ...|                  []|B000WQDWB6| B000WQDWB6|AGNRIO6AGKLMU5HGC...|2013-01-15 23:19:...|           0|             True|\n",
            "+------+--------------------+--------------------+--------------------+----------+-----------+--------------------+--------------------+------------+-----------------+\n",
            "only showing top 5 rows\n",
            "\n",
            "\n",
            "Cleaned dataset saved to /content/drive/My Drive/Cloud/Cleaned_All_Beauty.csv\n"
          ]
        }
      ]
    },
    {
      "cell_type": "code",
      "source": [
        "# Path to the cleaned dataset\n",
        "cleaned_file_path = '/content/drive/My Drive/Cloud/Cleaned_All_Beauty.csv'\n",
        "\n",
        "# Load the cleaned CSV into a Spark DataFrame\n",
        "cleaned_df = spark.read.csv(cleaned_file_path, header=True, inferSchema=True)\n",
        "\n",
        "# Verify data loading\n",
        "cleaned_df.show(5)"
      ],
      "metadata": {
        "colab": {
          "base_uri": "https://localhost:8080/"
        },
        "id": "MHwg9GpVSvk3",
        "outputId": "4da5c1fa-2fe2-4bc8-cbb1-4889820359cd"
      },
      "execution_count": null,
      "outputs": [
        {
          "output_type": "stream",
          "name": "stdout",
          "text": [
            "+------+--------------------+--------------------+--------------------+--------------------+--------------------+--------------------+--------------------+-------------------+-----------------+\n",
            "|rating|               title|                text|              images|                asin|         parent_asin|             user_id|           timestamp|       helpful_vote|verified_purchase|\n",
            "+------+--------------------+--------------------+--------------------+--------------------+--------------------+--------------------+--------------------+-------------------+-----------------+\n",
            "|     5|     these are great|well, I love the ...|                  []|          B00DR75MOM|          B00DR75MOM|AGQFGXUGFSZHNRQGP...|2015-01-01 01:09:...|                  1|             True|\n",
            "|     3|            warm hat|Sorta dumb lookin...|                  []|          B008CPAQUE|          B008CPAQUE|AGYU3KLQWZIUYKAXV...|2015-02-10 18:50:...|                  0|             True|\n",
            "|     4|excellent ingredi...|\"I like the shamp...|use around 3-5 dr...|it is important t...|the products work...|and once I have s...|I may buy another...|I give it 4 stars.\"|               []|\n",
            "|     5|        Will reorder|Colors are beauti...|                  []|          B07T9DC9XK|          B07T9DC9XK|AGTV3IO25IJNDMEPG...|2020-02-23 00:24:...|                  0|             True|\n",
            "|     5|             Love it|I used this when ...|                  []|          B00XXZZCCU|          B00XXZZCCU|AE7YYSYFEWAYIUCAK...|2021-08-15 07:32:...|                  0|            False|\n",
            "+------+--------------------+--------------------+--------------------+--------------------+--------------------+--------------------+--------------------+-------------------+-----------------+\n",
            "only showing top 5 rows\n",
            "\n"
          ]
        }
      ]
    },
    {
      "cell_type": "code",
      "source": [
        "from pyspark.sql import SparkSession\n",
        "from pyspark.sql.functions import col, when, sum\n",
        "\n",
        "# Step 1: Initialize Spark Session\n",
        "spark = SparkSession.builder.appName(\"Data Aggregation\").getOrCreate()\n",
        "\n",
        "# Step 2: Load the Dataset\n",
        "file_path = \"/content/drive/My Drive/Cloud/Cleaned_All_Beauty.csv\"  # Replace with your actual path\n",
        "data = spark.read.csv(file_path, header=True, inferSchema=True)\n",
        "\n",
        "# Step 3: Check and Convert 'helpful_vote' to Numeric\n",
        "data = data.withColumn(\n",
        "    'helpful_vote',\n",
        "    when(col('helpful_vote').cast('int').isNotNull(), col('helpful_vote').cast('int')).otherwise(0)\n",
        ")\n",
        "\n",
        "# Step 4: Separate Verified and Unverified Reviews\n",
        "verified_reviews = data.filter(data['verified_purchase'] == True)\n",
        "unverified_reviews = data.filter(data['verified_purchase'] == False)\n",
        "\n",
        "# Step 5: Group by Rating and Aggregate Helpful Votes\n",
        "verified_votes = verified_reviews.groupBy('rating').agg(sum('helpful_vote').alias('helpful_vote_verified'))\n",
        "unverified_votes = unverified_reviews.groupBy('rating').agg(sum('helpful_vote').alias('helpful_vote_unverified'))\n",
        "\n",
        "# Step 6: Combine Verified and Unverified Votes\n",
        "combined_votes = verified_votes.join(\n",
        "    unverified_votes,\n",
        "    on='rating',\n",
        "    how='outer'\n",
        ").fillna(0)\n",
        "\n",
        "# Step 7: Add Total and Percentages\n",
        "combined_votes = combined_votes.withColumn(\n",
        "    \"helpful_vote_total\",\n",
        "    col(\"helpful_vote_verified\") + col(\"helpful_vote_unverified\")\n",
        ").withColumn(\n",
        "    \"percent_verified\",\n",
        "    (col(\"helpful_vote_verified\") / col(\"helpful_vote_total\") * 100).cast(\"float\")\n",
        ").withColumn(\n",
        "    \"percent_unverified\",\n",
        "    (col(\"helpful_vote_unverified\") / col(\"helpful_vote_total\") * 100).cast(\"float\")\n",
        ")\n",
        "\n",
        "# Step 8: Show Results\n",
        "combined_votes.show(truncate=False)\n",
        "\n",
        "# Step 9: Save Processed Data\n",
        "output_path = \"/content/drive/My Drive/Cloud/processed_votes.csv\"  # Replace with desired path\n",
        "combined_votes.write.csv(output_path, header=True, mode=\"overwrite\")\n",
        "print(f\"Processed data saved successfully to: {output_path}\")"
      ],
      "metadata": {
        "colab": {
          "base_uri": "https://localhost:8080/"
        },
        "id": "GIwPgYDvWoKS",
        "outputId": "ff4f208e-ea7f-48ad-8b88-e70fa2cf34a7"
      },
      "execution_count": null,
      "outputs": [
        {
          "output_type": "stream",
          "name": "stdout",
          "text": [
            "+------+---------------------+-----------------------+------------------+----------------+------------------+\n",
            "|rating|helpful_vote_verified|helpful_vote_unverified|helpful_vote_total|percent_verified|percent_unverified|\n",
            "+------+---------------------+-----------------------+------------------+----------------+------------------+\n",
            "|1     |82050                |12138                  |94188             |87.11301        |12.8869915        |\n",
            "|2     |27402                |3058                   |30460             |89.9606         |10.039396         |\n",
            "|3     |35239                |3918                   |39157             |89.994125       |10.005874         |\n",
            "|4     |60550                |8995                   |69545             |87.065926       |12.934072         |\n",
            "|5     |350602               |36799                  |387401            |90.50106        |9.498943          |\n",
            "+------+---------------------+-----------------------+------------------+----------------+------------------+\n",
            "\n",
            "Processed data saved successfully to: /content/drive/My Drive/Cloud/processed_votes.csv\n"
          ]
        }
      ]
    },
    {
      "cell_type": "code",
      "source": [
        "import pandas as pd\n",
        "from tabulate import tabulate\n",
        "\n",
        "# Path to the file\n",
        "processed_data_path = \"/content/drive/My Drive/Cloud/processed_votes.csv/part-00000-2bb7bdd7-745a-4f7f-86f3-6801c6f57279-c000.csv\"\n",
        "\n",
        "# Load the processed data\n",
        "processed_data = pd.read_csv(processed_data_path, header=0)\n",
        "\n",
        "# Display a preview of the data in a table format with solid borders\n",
        "print(\"\\nProcessed Data Preview:\")\n",
        "print(tabulate(processed_data.head(), headers='keys', tablefmt='mixed_grid', showindex=False))\n",
        "\n",
        "# Check for missing values\n",
        "missing_values = processed_data.isnull().sum()  # Calculate missing values for each column\n",
        "missing_values_df = missing_values.reset_index()  # Convert to DataFrame\n",
        "missing_values_df.columns = ['Column', 'Missing Values']  # Rename columns\n",
        "\n",
        "print(\"\\nMissing Values:\")\n",
        "print(tabulate(missing_values_df, headers='keys', tablefmt='mixed_grid'))\n",
        "\n",
        "# Validate totals\n",
        "if 'helpful_vote_verified' in processed_data.columns and 'helpful_vote_unverified' in processed_data.columns:\n",
        "    # Calculate total votes\n",
        "    processed_data['calculated_total'] = (\n",
        "        processed_data['helpful_vote_verified'] + processed_data['helpful_vote_unverified']\n",
        "    )\n",
        "\n",
        "    # Prepare validation data\n",
        "    validation_data = processed_data[['helpful_vote_total', 'calculated_total']].head()\n",
        "\n",
        "    print(\"\\nValidation:\")\n",
        "    print(tabulate(validation_data, headers='keys', tablefmt='mixed_grid', showindex=False))\n",
        "else:\n",
        "    print(\"\\nValidation columns not found in the dataset.\")\n"
      ],
      "metadata": {
        "colab": {
          "base_uri": "https://localhost:8080/"
        },
        "id": "iXt27IwdY3vn",
        "outputId": "4bc535e4-951c-4bb5-ad36-cdea5c8c16b3"
      },
      "execution_count": null,
      "outputs": [
        {
          "output_type": "stream",
          "name": "stdout",
          "text": [
            "\n",
            "Processed Data Preview:\n",
            "┍━━━━━━━━━━┯━━━━━━━━━━━━━━━━━━━━━━━━━┯━━━━━━━━━━━━━━━━━━━━━━━━━━━┯━━━━━━━━━━━━━━━━━━━━━━┯━━━━━━━━━━━━━━━━━━━━┯━━━━━━━━━━━━━━━━━━━━━━┑\n",
            "│   rating │   helpful_vote_verified │   helpful_vote_unverified │   helpful_vote_total │   percent_verified │   percent_unverified │\n",
            "┝━━━━━━━━━━┿━━━━━━━━━━━━━━━━━━━━━━━━━┿━━━━━━━━━━━━━━━━━━━━━━━━━━━┿━━━━━━━━━━━━━━━━━━━━━━┿━━━━━━━━━━━━━━━━━━━━┿━━━━━━━━━━━━━━━━━━━━━━┥\n",
            "│        1 │                   82050 │                     12138 │                94188 │            87.113  │             12.887   │\n",
            "├──────────┼─────────────────────────┼───────────────────────────┼──────────────────────┼────────────────────┼──────────────────────┤\n",
            "│        2 │                   27402 │                      3058 │                30460 │            89.9606 │             10.0394  │\n",
            "├──────────┼─────────────────────────┼───────────────────────────┼──────────────────────┼────────────────────┼──────────────────────┤\n",
            "│        3 │                   35239 │                      3918 │                39157 │            89.9941 │             10.0059  │\n",
            "├──────────┼─────────────────────────┼───────────────────────────┼──────────────────────┼────────────────────┼──────────────────────┤\n",
            "│        4 │                   60550 │                      8995 │                69545 │            87.0659 │             12.9341  │\n",
            "├──────────┼─────────────────────────┼───────────────────────────┼──────────────────────┼────────────────────┼──────────────────────┤\n",
            "│        5 │                  350602 │                     36799 │               387401 │            90.5011 │              9.49894 │\n",
            "┕━━━━━━━━━━┷━━━━━━━━━━━━━━━━━━━━━━━━━┷━━━━━━━━━━━━━━━━━━━━━━━━━━━┷━━━━━━━━━━━━━━━━━━━━━━┷━━━━━━━━━━━━━━━━━━━━┷━━━━━━━━━━━━━━━━━━━━━━┙\n",
            "\n",
            "Missing Values:\n",
            "┍━━━━┯━━━━━━━━━━━━━━━━━━━━━━━━━┯━━━━━━━━━━━━━━━━━━┑\n",
            "│    │ Column                  │   Missing Values │\n",
            "┝━━━━┿━━━━━━━━━━━━━━━━━━━━━━━━━┿━━━━━━━━━━━━━━━━━━┥\n",
            "│  0 │ rating                  │                0 │\n",
            "├────┼─────────────────────────┼──────────────────┤\n",
            "│  1 │ helpful_vote_verified   │                0 │\n",
            "├────┼─────────────────────────┼──────────────────┤\n",
            "│  2 │ helpful_vote_unverified │                0 │\n",
            "├────┼─────────────────────────┼──────────────────┤\n",
            "│  3 │ helpful_vote_total      │                0 │\n",
            "├────┼─────────────────────────┼──────────────────┤\n",
            "│  4 │ percent_verified        │                0 │\n",
            "├────┼─────────────────────────┼──────────────────┤\n",
            "│  5 │ percent_unverified      │                0 │\n",
            "┕━━━━┷━━━━━━━━━━━━━━━━━━━━━━━━━┷━━━━━━━━━━━━━━━━━━┙\n",
            "\n",
            "Validation:\n",
            "┍━━━━━━━━━━━━━━━━━━━━━━┯━━━━━━━━━━━━━━━━━━━━┑\n",
            "│   helpful_vote_total │   calculated_total │\n",
            "┝━━━━━━━━━━━━━━━━━━━━━━┿━━━━━━━━━━━━━━━━━━━━┥\n",
            "│                94188 │              94188 │\n",
            "├──────────────────────┼────────────────────┤\n",
            "│                30460 │              30460 │\n",
            "├──────────────────────┼────────────────────┤\n",
            "│                39157 │              39157 │\n",
            "├──────────────────────┼────────────────────┤\n",
            "│                69545 │              69545 │\n",
            "├──────────────────────┼────────────────────┤\n",
            "│               387401 │             387401 │\n",
            "┕━━━━━━━━━━━━━━━━━━━━━━┷━━━━━━━━━━━━━━━━━━━━┙\n"
          ]
        }
      ]
    },
    {
      "cell_type": "code",
      "source": [
        "import pandas as pd\n",
        "import matplotlib.pyplot as plt\n",
        "from matplotlib.ticker import FuncFormatter\n",
        "\n",
        "# Create a formatter function for the y-axis\n",
        "def y_axis_formatter(x, pos):\n",
        "    return f'{int(x/1000)}k' if x >= 1000 else str(int(x))\n",
        "\n",
        "# Plotting the helpful votes with improved aesthetics\n",
        "plt.figure(figsize=(10, 6))\n",
        "bar_width = 0.35\n",
        "index = range(len(processed_data))\n",
        "\n",
        "# Plot Verified Votes in green and Unverified Votes in red\n",
        "plt.bar(index, processed_data['helpful_vote_verified'], bar_width, label='Verified Votes', color='green')\n",
        "plt.bar([i + bar_width for i in index], processed_data['helpful_vote_unverified'], bar_width, label='Unverified Votes', color='red')\n",
        "\n",
        "# Enhancing x-axis labels for clarity\n",
        "plt.xlabel('Rating', fontsize=12)\n",
        "plt.ylabel('Number of Votes', fontsize=12)\n",
        "plt.title('Comparison of Verified and Unverified Helpful Votes', fontsize=14, fontweight='bold')\n",
        "\n",
        "# Adjusting x-ticks for better readability\n",
        "plt.xticks([i + bar_width / 2 for i in index], processed_data.index)\n",
        "\n",
        "# Apply the y-axis formatter\n",
        "plt.gca().yaxis.set_major_formatter(FuncFormatter(y_axis_formatter))\n",
        "\n",
        "# Adding the legend\n",
        "plt.legend()\n",
        "\n",
        "# Tight layout to ensure nothing is cut off\n",
        "plt.tight_layout()\n",
        "\n",
        "# Save the plot to a file\n",
        "plt.savefig('helpful_votes_comparison.png')\n",
        "\n",
        "# Show the plot\n",
        "plt.show()"
      ],
      "metadata": {
        "colab": {
          "base_uri": "https://localhost:8080/",
          "height": 607
        },
        "id": "m6zwK8DOYH8e",
        "outputId": "7db15133-e4d1-47c1-e6cf-d5e48cee2968"
      },
      "execution_count": null,
      "outputs": [
        {
          "output_type": "display_data",
          "data": {
            "text/plain": [
              "<Figure size 1000x600 with 1 Axes>"
            ],
            "image/png": "[encoded data removed]"
          },
          "metadata": {}
        }
      ]
    }
  ]
}